{
 "cells": [
  {
   "cell_type": "markdown",
   "metadata": {},
   "source": [
    "# Tree Datatype\n",
    "Otherwise known as [autovivification](https://en.wikipedia.org/wiki/Autovivification).\n",
    "\n",
    "Let us assume we would like to build a hierarchical tree of animal classifications. We could build this as a dictionary like so:"
   ]
  },
  {
   "cell_type": "code",
   "execution_count": 7,
   "metadata": {},
   "outputs": [],
   "source": [
    "tree = {\n",
    "    'carnivora': {\n",
    "        'felis': 'f.catus'\n",
    "    }\n",
    "}"
   ]
  },
  {
   "cell_type": "markdown",
   "metadata": {},
   "source": [
    "This works but it's slow to build, we have to specify each new node in the hierarchy as a dictionary. If we want to add a new branch we need to check what already exists and build out our new branch from this. It's pretty annoying, and prone to error.\n",
    "\n",
    "What we need is an actual tree datatype, where if a node in a branch doesn't exist, it is built without raising an like this:"
   ]
  },
  {
   "cell_type": "code",
   "execution_count": 8,
   "metadata": {},
   "outputs": [
    {
     "ename": "KeyError",
     "evalue": "'canis'",
     "output_type": "error",
     "traceback": [
      "\u001b[1;31m---------------------------------------------------------------------------\u001b[0m",
      "\u001b[1;31mKeyError\u001b[0m                                  Traceback (most recent call last)",
      "\u001b[1;32m<ipython-input-8-88545d1e86fe>\u001b[0m in \u001b[0;36m<module>\u001b[1;34m\u001b[0m\n\u001b[1;32m----> 1\u001b[1;33m \u001b[0mtree\u001b[0m\u001b[1;33m[\u001b[0m\u001b[1;34m'carnivora'\u001b[0m\u001b[1;33m]\u001b[0m\u001b[1;33m[\u001b[0m\u001b[1;34m'canis'\u001b[0m\u001b[1;33m]\u001b[0m\u001b[1;33m[\u001b[0m\u001b[1;34m'c.lupus'\u001b[0m\u001b[1;33m]\u001b[0m \u001b[1;33m=\u001b[0m \u001b[1;34m'c.l.familiaris'\u001b[0m\u001b[1;33m\u001b[0m\u001b[1;33m\u001b[0m\u001b[0m\n\u001b[0m",
      "\u001b[1;31mKeyError\u001b[0m: 'canis'"
     ]
    }
   ],
   "source": [
    "tree['carnivora']['canis']['c.lupus'] = 'c.l.familiaris'"
   ]
  },
  {
   "cell_type": "markdown",
   "metadata": {},
   "source": [
    "## Tree\n",
    "To define this new datatype, we write:"
   ]
  },
  {
   "cell_type": "code",
   "execution_count": 9,
   "metadata": {},
   "outputs": [],
   "source": [
    "class Tree(dict):\n",
    "    def __missing__(self, key):\n",
    "        value = self[key] = type(self)()\n",
    "        return value"
   ]
  },
  {
   "cell_type": "markdown",
   "metadata": {},
   "source": [
    "Now, lets perform the same operation as we did above, adding the cat (f.catus) to our tree, followed by dog (c.l.familiaris)."
   ]
  },
  {
   "cell_type": "code",
   "execution_count": 11,
   "metadata": {},
   "outputs": [
    {
     "name": "stdout",
     "output_type": "stream",
     "text": [
      "{'carnivora': {'canis': {'c.lupus': 'c.l.familiaris'}, 'felis': 'f.catus'}}\n"
     ]
    }
   ],
   "source": [
    "tree = Tree()\n",
    "tree['carnivora']['canis']['c.lupus'] = 'c.l.familiaris'\n",
    "tree['carnivora']['felis'] = 'f.catus'\n",
    "print(tree)"
   ]
  },
  {
   "cell_type": "markdown",
   "metadata": {},
   "source": [
    "Easy, maybe we would like to keep the leaf nodes (c.l.familiaris and f.catus) available as possible new parent nodes. Fortunately we don't need to specify them as the final nodes in our hierarchy, instead we can do this:"
   ]
  },
  {
   "cell_type": "code",
   "execution_count": 12,
   "metadata": {},
   "outputs": [
    {
     "name": "stdout",
     "output_type": "stream",
     "text": [
      "{'carnivora': {'canis': {'c.lupus': {'c.l.familiaris': {}}}, 'felis': {'f.catus': {}}}}\n"
     ]
    }
   ],
   "source": [
    "tree = Tree()\n",
    "tree['carnivora']['canis']['c.lupus']['c.l.familiaris']\n",
    "tree['carnivora']['felis']['f.catus']\n",
    "print(tree)"
   ]
  }
 ],
 "metadata": {
  "kernelspec": {
   "display_name": "Python 3",
   "language": "python",
   "name": "python3"
  },
  "language_info": {
   "codemirror_mode": {
    "name": "ipython",
    "version": 3
   },
   "file_extension": ".py",
   "mimetype": "text/x-python",
   "name": "python",
   "nbconvert_exporter": "python",
   "pygments_lexer": "ipython3",
   "version": "3.7.4"
  }
 },
 "nbformat": 4,
 "nbformat_minor": 4
}
