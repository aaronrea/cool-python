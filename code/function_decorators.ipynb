{
 "cells": [
  {
   "cell_type": "markdown",
   "metadata": {},
   "source": [
    "# Decorator Functions"
   ]
  },
  {
   "cell_type": "code",
   "execution_count": 6,
   "metadata": {},
   "outputs": [],
   "source": [
    "import datetime"
   ]
  },
  {
   "cell_type": "markdown",
   "metadata": {},
   "source": [
    "A decorator function allows us to modify the behavior of another function without explicitly modifying it.\n",
    "\n",
    "Let's define a function that for no reason iterates over a very long list:"
   ]
  },
  {
   "cell_type": "code",
   "execution_count": 15,
   "metadata": {},
   "outputs": [],
   "source": [
    "def pointless():\n",
    "    for i in range(20000000):\n",
    "        x = i*2\n",
    "    print(x)"
   ]
  },
  {
   "cell_type": "markdown",
   "metadata": {},
   "source": [
    "If we call this function, we will return the dictionary that we've built:"
   ]
  },
  {
   "cell_type": "code",
   "execution_count": 16,
   "metadata": {},
   "outputs": [
    {
     "data": {
      "text/plain": [
       "39999998"
      ]
     },
     "execution_count": 16,
     "metadata": {},
     "output_type": "execute_result"
    }
   ],
   "source": [
    "dict_maker()"
   ]
  },
  {
   "cell_type": "markdown",
   "metadata": {},
   "source": [
    "Now, we can create a decorator function that will time this process. We define the decorator functions just like a normal function, and it will take one argument, our function."
   ]
  },
  {
   "cell_type": "code",
   "execution_count": 7,
   "metadata": {},
   "outputs": [],
   "source": [
    "def timer(func):\n",
    "    def wrapper():\n",
    "        start = datetime.datetime.now()\n",
    "        func()\n",
    "        time = datetime.datetime.now() - start\n",
    "        print(time)\n",
    "    return wrapper"
   ]
  },
  {
   "cell_type": "markdown",
   "metadata": {},
   "source": [
    "And now we redefine original function, with a timer printout by adding `@timer` above our function:"
   ]
  },
  {
   "cell_type": "code",
   "execution_count": 17,
   "metadata": {},
   "outputs": [],
   "source": [
    "@timer\n",
    "def pointless():\n",
    "    for i in range(20000000):\n",
    "        x = i*2\n",
    "    print(x)"
   ]
  },
  {
   "cell_type": "code",
   "execution_count": 18,
   "metadata": {},
   "outputs": [
    {
     "name": "stdout",
     "output_type": "stream",
     "text": [
      "0:00:01.220755\n"
     ]
    }
   ],
   "source": [
    "dict_maker()"
   ]
  },
  {
   "cell_type": "markdown",
   "metadata": {},
   "source": [
    "## Multiple Decorators\n",
    "We can add multiple decorators to our functions too. Here we will define `repeat` which will run any function twice."
   ]
  },
  {
   "cell_type": "code",
   "execution_count": 25,
   "metadata": {},
   "outputs": [],
   "source": [
    "def repeat(func):\n",
    "    def wrapper():\n",
    "        for i in range(2):\n",
    "            func()\n",
    "            print(i)\n",
    "    return wrapper"
   ]
  },
  {
   "cell_type": "markdown",
   "metadata": {},
   "source": [
    "Applying both `@timer` and `@repeat` decorator functions to `pointless` merge these decorators."
   ]
  },
  {
   "cell_type": "code",
   "execution_count": 26,
   "metadata": {},
   "outputs": [],
   "source": [
    "@timer\n",
    "@repeat\n",
    "def pointless():\n",
    "    for i in range(20000000):\n",
    "        x = i*2\n",
    "    print(x)"
   ]
  },
  {
   "cell_type": "code",
   "execution_count": 27,
   "metadata": {},
   "outputs": [
    {
     "name": "stdout",
     "output_type": "stream",
     "text": [
      "39999998\n",
      "0\n",
      "39999998\n",
      "1\n",
      "0:00:02.103374\n"
     ]
    }
   ],
   "source": [
    "pointless()"
   ]
  },
  {
   "cell_type": "markdown",
   "metadata": {},
   "source": [
    "In this order, `pointless` wraps up into `@repeat` and this decorated function wraps up into `@timer`. Meaning we have a hierarchy of `@timer > @repeat > pointless`.\n",
    "\n",
    "We can change the order of our decorators to time each function iteration like so:"
   ]
  },
  {
   "cell_type": "code",
   "execution_count": null,
   "metadata": {},
   "outputs": [],
   "source": [
    "@repeat\n",
    "@"
   ]
  }
 ],
 "metadata": {
  "kernelspec": {
   "display_name": "Python 3",
   "language": "python",
   "name": "python3"
  },
  "language_info": {
   "codemirror_mode": {
    "name": "ipython",
    "version": 3
   },
   "file_extension": ".py",
   "mimetype": "text/x-python",
   "name": "python",
   "nbconvert_exporter": "python",
   "pygments_lexer": "ipython3",
   "version": "3.7.4"
  }
 },
 "nbformat": 4,
 "nbformat_minor": 4
}
